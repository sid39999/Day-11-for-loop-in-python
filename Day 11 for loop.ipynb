{
 "cells": [
  {
   "cell_type": "markdown",
   "id": "240feb68",
   "metadata": {},
   "source": [
    "#                        Welcome To Our Challenge\n",
    "                                100 Days of Code Challenge\n",
    "\n",
    "                    Challenge Accepted by YOUTUBER:   SANCHIT AGRAWAL"
   ]
  },
  {
   "cell_type": "raw",
   "id": "f6192e3e",
   "metadata": {},
   "source": [
    "                        YOUTUBE CHANNEL Name: Sanchit Agrawal"
   ]
  },
  {
   "cell_type": "markdown",
   "id": "bbcab244",
   "metadata": {},
   "source": [
    "#                                           DAY 11\n",
    "                                         LET'S BEGIN"
   ]
  },
  {
   "cell_type": "markdown",
   "id": "bbf19374",
   "metadata": {},
   "source": [
    "# For Loop in Python"
   ]
  },
  {
   "cell_type": "raw",
   "id": "67b877c2",
   "metadata": {},
   "source": [
    "for loops can iterate over a sequence of iterable objects in python. Iterating over a sequence is nothing but iterating over strings, lists, tuples, sets and dictionaries."
   ]
  },
  {
   "cell_type": "markdown",
   "id": "fb6a3d75",
   "metadata": {},
   "source": [
    "# Iterating over string"
   ]
  },
  {
   "cell_type": "code",
   "execution_count": 21,
   "id": "fda2def6",
   "metadata": {},
   "outputs": [
    {
     "name": "stdout",
     "output_type": "stream",
     "text": [
      "p\n",
      "y\n",
      "t\n",
      "h\n",
      "o\n",
      "n\n"
     ]
    }
   ],
   "source": [
    "x = 'python is good '\n",
    "for i in x:\n",
    "    print(i)\n"
   ]
  },
  {
   "cell_type": "code",
   "execution_count": 24,
   "id": "7ebc71c0",
   "metadata": {},
   "outputs": [
    {
     "name": "stdout",
     "output_type": "stream",
     "text": [
      "s-a-n-c-h-i-t-"
     ]
    }
   ],
   "source": [
    "x = 'sanchit'\n",
    "for i in x:\n",
    "    print(i, end= '-')"
   ]
  },
  {
   "cell_type": "markdown",
   "id": "c8bf7aee",
   "metadata": {},
   "source": [
    "# iterating over list"
   ]
  },
  {
   "cell_type": "code",
   "execution_count": 26,
   "id": "a8732206",
   "metadata": {},
   "outputs": [
    {
     "name": "stdout",
     "output_type": "stream",
     "text": [
      "red\n",
      "r\n",
      "e\n",
      "d\n",
      "white\n",
      "w\n",
      "h\n",
      "i\n",
      "t\n",
      "e\n",
      "green\n",
      "g\n",
      "r\n",
      "e\n",
      "e\n",
      "n\n"
     ]
    }
   ],
   "source": [
    "lis = ['red', 'white', 'green']\n",
    "#index   0       1       2\n",
    "for i in lis:\n",
    "    print(i)\n",
    "    for c in i:\n",
    "        print(c)"
   ]
  },
  {
   "cell_type": "code",
   "execution_count": null,
   "id": "04e45ad8",
   "metadata": {},
   "outputs": [],
   "source": []
  },
  {
   "cell_type": "markdown",
   "id": "c4cafce7",
   "metadata": {},
   "source": [
    "# Range with loop"
   ]
  },
  {
   "cell_type": "code",
   "execution_count": 27,
   "id": "5add8260",
   "metadata": {},
   "outputs": [
    {
     "name": "stdout",
     "output_type": "stream",
     "text": [
      "0\n",
      "1\n",
      "2\n",
      "3\n",
      "4\n"
     ]
    }
   ],
   "source": [
    "for e in range(5): #-1\n",
    "    print(e)"
   ]
  },
  {
   "cell_type": "code",
   "execution_count": 28,
   "id": "cd88d11a",
   "metadata": {},
   "outputs": [
    {
     "name": "stdout",
     "output_type": "stream",
     "text": [
      "100\n",
      "101\n",
      "102\n",
      "103\n",
      "104\n",
      "105\n"
     ]
    }
   ],
   "source": [
    "for u in range(100,106):\n",
    "    print(u)"
   ]
  },
  {
   "cell_type": "markdown",
   "id": "863f99f5",
   "metadata": {},
   "source": [
    "# real life use "
   ]
  },
  {
   "cell_type": "code",
   "execution_count": 35,
   "id": "fbceb170",
   "metadata": {},
   "outputs": [
    {
     "name": "stdout",
     "output_type": "stream",
     "text": [
      "enter any number; 39\n",
      "39 x 1 =  39\n",
      "39 x 2 =  78\n",
      "39 x 3 =  117\n",
      "39 x 4 =  156\n",
      "39 x 5 =  195\n",
      "39 x 6 =  234\n",
      "39 x 7 =  273\n",
      "39 x 8 =  312\n",
      "39 x 9 =  351\n",
      "39 x 10 =  390\n"
     ]
    }
   ],
   "source": [
    "table = int(input('enter any number; '))\n",
    "\n",
    "\n",
    "for i in range(1,11):\n",
    "    print('{} x {} = '.format(table,i),(i*table))"
   ]
  },
  {
   "cell_type": "code",
   "execution_count": null,
   "id": "09e4a722",
   "metadata": {},
   "outputs": [],
   "source": []
  }
 ],
 "metadata": {
  "kernelspec": {
   "display_name": "Python 3 (ipykernel)",
   "language": "python",
   "name": "python3"
  },
  "language_info": {
   "codemirror_mode": {
    "name": "ipython",
    "version": 3
   },
   "file_extension": ".py",
   "mimetype": "text/x-python",
   "name": "python",
   "nbconvert_exporter": "python",
   "pygments_lexer": "ipython3",
   "version": "3.11.5"
  }
 },
 "nbformat": 4,
 "nbformat_minor": 5
}
